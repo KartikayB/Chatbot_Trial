{
 "cells": [
  {
   "cell_type": "markdown",
   "metadata": {},
   "source": [
    "## Creating JSON File"
   ]
  },
  {
   "cell_type": "markdown",
   "metadata": {},
   "source": [
    "#### Can be ignored if already created"
   ]
  },
  {
   "cell_type": "code",
   "execution_count": 2,
   "metadata": {},
   "outputs": [],
   "source": [
    "import json"
   ]
  },
  {
   "cell_type": "code",
   "execution_count": 8,
   "metadata": {},
   "outputs": [],
   "source": [
    "data = {\"weather today\" : \"30\",\n",
    "\"weather tomorrow\" : \"40\",\n",
    "\"Schedule today\" : \"10:00 AM\"\n",
    "       }"
   ]
  },
  {
   "cell_type": "code",
   "execution_count": 9,
   "metadata": {},
   "outputs": [],
   "source": [
    "with open(\"data_file.json\", \"w\") as write_file:\n",
    "    json.dump(data, write_file)"
   ]
  },
  {
   "cell_type": "code",
   "execution_count": null,
   "metadata": {},
   "outputs": [],
   "source": []
  },
  {
   "cell_type": "markdown",
   "metadata": {},
   "source": [
    "## Functions For Input And Output "
   ]
  },
  {
   "cell_type": "code",
   "execution_count": 1,
   "metadata": {},
   "outputs": [],
   "source": [
    "def values(ques,dicti):\n",
    "    for i in ques :\n",
    "        i=i.lower()\n",
    "        try:\n",
    "            dicti[i]+=1\n",
    "        except:\n",
    "            try: #for extra end character \n",
    "                dicti[i[:-1]]+=1\n",
    "            except:\n",
    "                try : #for any extra pre space\n",
    "                    dicti[i[1:]]+=1\n",
    "                except:\n",
    "                    continue\n",
    "    arr=[]\n",
    "    for i in dicti: #We are only cocerned with the frequency of terms \n",
    "        arr.append(dicti[i])\n",
    "        dicti[i]=0\n",
    "    return arr"
   ]
  },
  {
   "cell_type": "markdown",
   "metadata": {},
   "source": [
    "## Preprocessing\n",
    "### Need to be executed only once"
   ]
  },
  {
   "cell_type": "code",
   "execution_count": 2,
   "metadata": {},
   "outputs": [],
   "source": [
    "def preprocessing(): \n",
    "    import json\n",
    "    with open('data_file.json') as json_file: #reading json\n",
    "        data = json.load(json_file)\n",
    "    dic={}\n",
    "    result_index=[]\n",
    "    for i in data:\n",
    "        result_index.append(data[i])\n",
    "        for j in i.split(\" \"):\n",
    "            dic[j.lower()]=0\n",
    "    predata=[]\n",
    "    for i in data :\n",
    "        predata.append(values(i.split(\" \"),dic))\n",
    "    return dic,result_index,predata"
   ]
  },
  {
   "cell_type": "markdown",
   "metadata": {},
   "source": [
    "## Need To Run Every Time The Response Is Reqired"
   ]
  },
  {
   "cell_type": "code",
   "execution_count": 19,
   "metadata": {},
   "outputs": [],
   "source": [
    "def calculate(ques):\n",
    "    ques=ques.split(\" \")\n",
    "    res=values(ques,dic)\n",
    "    final=[]\n",
    "    for i in predata :\n",
    "        s=0\n",
    "        for j in range(len(i)):\n",
    "            s+=abs(i[j]-res[j])\n",
    "        final.append(s)\n",
    "    print(res)\n",
    "    return result_index[final.index(min(final))]"
   ]
  },
  {
   "cell_type": "markdown",
   "metadata": {},
   "source": [
    "## Execute Beforehand"
   ]
  },
  {
   "cell_type": "code",
   "execution_count": 30,
   "metadata": {},
   "outputs": [],
   "source": [
    "def clicked():\n",
    "    a=messageWindow.get(\"1.0\",END)\n",
    "    messageWindow.delete(\"1.0\",END)\n",
    "    chatWindow.insert(END ,\"User : \"+a)\n",
    "    response=calculate(a.strip())\n",
    "    chatWindow.insert(END ,\"Response : \"+response+\"\\n\")\n",
    "    chatWindow.insert(END , \"\\n\")\n",
    "    chatWindow.yview(END)\n",
    "    print(a,response)"
   ]
  },
  {
   "cell_type": "markdown",
   "metadata": {},
   "source": [
    "## TKinter GUI"
   ]
  },
  {
   "cell_type": "code",
   "execution_count": 33,
   "metadata": {},
   "outputs": [
    {
     "name": "stdout",
     "output_type": "stream",
     "text": [
      "[1, 1, 0, 0]\n",
      "What is the weather today?\n",
      " 30\n",
      "[1, 0, 1, 0]\n",
      "What is the weather tomorrow?\n",
      " 40\n",
      "[1, 1, 0, 0]\n",
      "Weather Today\n",
      " 30\n",
      "[1, 0, 1, 0]\n",
      "Tomorrow Weather\n",
      " 40\n",
      "[0, 1, 0, 1]\n",
      "Schedule for today ?\n",
      " 10:00 AM\n",
      "[0, 0, 0, 1]\n",
      "Today's Schedule\n",
      " 10:00 AM\n",
      "[0, 0, 1, 1]\n",
      "Tomorrow Schedule\n",
      " 40\n",
      "[1, 1, 0, 0]\n",
      "Today Weather Information\n",
      " 30\n"
     ]
    }
   ],
   "source": [
    "dic,result_index,predata=preprocessing()\n",
    "from tkinter import *\n",
    "root = Tk()\n",
    "root.title(\"Chat Bot\")\n",
    "root.geometry(\"400x500\")\n",
    "root.resizable(width=False, height=False)\n",
    "main_menu = Menu(root)\n",
    "chatWindow = Text(root, bd=1,  width=\"50\", height=\"8\", font=(\"Arial\", 10), foreground=\"black\")\n",
    "chatWindow.place(x=6,y=6, height=385, width=370)\n",
    "\n",
    "messageWindow = Text(root, bd=0, width=\"30\", height=\"4\", font=(\"Arial\", 10), foreground=\"black\")\n",
    "messageWindow.place(x=128, y=400, height=88, width=260)\n",
    "scrollbar = Scrollbar(root, command=chatWindow.yview, cursor=\"star\")\n",
    "scrollbar.place(x=375,y=5, height=385)\n",
    "\n",
    "Button= Button(root, text=\"Send\",  width=\"12\", height=5, bd=0, bg=\"#0080ff\", command=clicked, activebackground=\"#00bfff\",foreground='#ffffff',font=(\"Arial\", 12))\n",
    "Button.place(x=6, y=400, height=88)\n",
    "\n",
    "\n",
    "\n",
    "root.mainloop()"
   ]
  },
  {
   "cell_type": "code",
   "execution_count": null,
   "metadata": {},
   "outputs": [],
   "source": []
  }
 ],
 "metadata": {
  "kernelspec": {
   "display_name": "Python 3",
   "language": "python",
   "name": "python3"
  },
  "language_info": {
   "codemirror_mode": {
    "name": "ipython",
    "version": 3
   },
   "file_extension": ".py",
   "mimetype": "text/x-python",
   "name": "python",
   "nbconvert_exporter": "python",
   "pygments_lexer": "ipython3",
   "version": "3.7.4"
  }
 },
 "nbformat": 4,
 "nbformat_minor": 2
}
